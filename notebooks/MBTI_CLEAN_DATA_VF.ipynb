{
 "cells": [
  {
   "cell_type": "code",
   "execution_count": 41,
   "id": "e675fe34",
   "metadata": {},
   "outputs": [],
   "source": [
    "import numpy as np                             # linear algebra\n",
    "import pandas as pd                            # Data processing, CSV file I/O (e.g. pd.read_csv)\n",
    "import re                                      # for Data Cleaning \n",
    "import matplotlib.pyplot as plt                # For Visualization  \n",
    "import re                                      # For data Cleaning \n",
    "\n",
    "from tqdm import tqdm                          # For Progressear \n",
    "import nltk                                    # For preprocessing\n",
    "from nltk.tokenize import word_tokenize\n",
    "from nltk.corpus import stopwords \n",
    "from nltk.stem.porter import PorterStemmer\n",
    "\n",
    "from sklearn import metrics                    # For Accuracy Measure \n",
    "from sklearn.metrics import accuracy_score"
   ]
  },
  {
   "cell_type": "code",
   "execution_count": 42,
   "id": "f282d833",
   "metadata": {},
   "outputs": [],
   "source": [
    "MBTI_CSV = '/home/luisgustavo/code/linkedin_project/raw_data/mbti_1.csv'"
   ]
  },
  {
   "cell_type": "code",
   "execution_count": 86,
   "id": "4d811a43",
   "metadata": {},
   "outputs": [
    {
     "name": "stdout",
     "output_type": "stream",
     "text": [
      "(8675, 2)\n",
      "<class 'pandas.core.frame.DataFrame'>\n",
      "RangeIndex: 8675 entries, 0 to 8674\n",
      "Data columns (total 2 columns):\n",
      " #   Column  Non-Null Count  Dtype \n",
      "---  ------  --------------  ----- \n",
      " 0   type    8675 non-null   object\n",
      " 1   posts   8675 non-null   object\n",
      "dtypes: object(2)\n",
      "memory usage: 135.7+ KB\n",
      "None\n"
     ]
    }
   ],
   "source": [
    "# Function To Load Data\n",
    "data = pd.read_csv(MBTI_CSV)\n",
    "print(data.shape)\n",
    "print(data.info())"
   ]
  },
  {
   "cell_type": "code",
   "execution_count": 87,
   "id": "3a7ca71b",
   "metadata": {},
   "outputs": [],
   "source": [
    "#Data Insights"
   ]
  },
  {
   "cell_type": "code",
   "execution_count": 92,
   "id": "48dff966",
   "metadata": {},
   "outputs": [
    {
     "data": {
      "text/plain": [
       "\"'http://www.youtube.com/watch?v=qsXHcwe3krw|||http://41.media.tumblr.com/tumblr_lfouy03PMA1qa1rooo1_500.jpg|||enfp and intj moments  https://www.youtube.com/watch?v=iz7lE1g4XM4  sportscenter not top ten plays  https://www.youtube.com/watch?v=uCdfze1etec  pranks|||What has been the most life-changing experience in your life?|||http://www.youtube.com/watch?v=vXZeYwwRDw8   http://www.youtube.com/watch?v=u8ejam5DP3E  On repeat for most of today.|||May the PerC Experience immerse you.|||The last thing my INFJ friend posted on his facebook before committing suicide the next day. Rest in peace~   http://vimeo.com/22842206|||Hello ENFJ7. Sorry to hear of your distress. It's only natural for a relationship to not be perfection all the time in every moment of existence. Try to figure the hard times as times of growth, as...|||84389  84390  http://wallpaperpassion.com/upload/23700/friendship-boy-and-girl-wallpaper.jpg  http://assets.dornob.com/wp-content/uploads/2010/04/round-home-design.jpg ...|||Welcome and stuff.|||http://playeressence.com/wp-content/uploads/2013/08/RED-red-the-pokemon-master-32560474-450-338.jpg  Game. Set. Match.|||Prozac, wellbrutin, at least thirty minutes of moving your legs (and I don't mean moving them while sitting in your same desk chair), weed in moderation (maybe try edibles as a healthier alternative...|||Basically come up with three items you've determined that each type (or whichever types you want to do) would more than likely use, given each types' cognitive functions and whatnot, when left by...|||All things in moderation.  Sims is indeed a video game, and a good one at that. Note: a good one at that is somewhat subjective in that I am not completely promoting the death of any given Sim...|||Dear ENFP:  What were your favorite video games growing up and what are your now, current favorite video games? :cool:|||https://www.youtube.com/watch?v=QyPqT8umzmY|||It appears to be too late. :sad:|||There's someone out there for everyone.|||Wait... I thought confidence was a good thing.|||I just cherish the time of solitude b/c i revel within my inner world more whereas most other time i'd be workin... just enjoy the me time while you can. Don't worry, people will always be around to...|||Yo entp ladies... if you're into a complimentary personality,well, hey.|||... when your main social outlet is xbox live conversations and even then you verbally fatigue quickly.|||http://www.youtube.com/watch?v=gDhy7rdfm14  I really dig the part from 1:46 to 2:50|||http://www.youtube.com/watch?v=msqXffgh7b8|||Banned because this thread requires it of me.|||Get high in backyard, roast and eat marshmellows in backyard while conversing over something intellectual, followed by massages and kisses.|||http://www.youtube.com/watch?v=Mw7eoU3BMbE|||http://www.youtube.com/watch?v=4V2uYORhQOk|||http://www.youtube.com/watch?v=SlVmgFQQ0TI|||Banned for too many b's in that sentence. How could you! Think of the B!|||Banned for watching movies in the corner with the dunces.|||Banned because Health class clearly taught you nothing about peer pressure.|||Banned for a whole host of reasons!|||http://www.youtube.com/watch?v=IRcrv41hgz4|||1) Two baby deer on left and right munching on a beetle in the middle.  2) Using their own blood, two cavemen diary today's latest happenings on their designated cave diary wall.  3) I see it as...|||a pokemon world  an infj society  everyone becomes an optimist|||49142|||http://www.youtube.com/watch?v=ZRCEq_JFeFM|||http://discovermagazine.com/2012/jul-aug/20-things-you-didnt-know-about-deserts/desert.jpg|||http://oyster.ignimgs.com/mediawiki/apis.ign.com/pokemon-silver-version/d/dd/Ditto.gif|||http://www.serebii.net/potw-dp/Scizor.jpg|||Not all artists are artists because they draw. It's the idea that counts in forming something of your own... like a signature.|||Welcome to the robot ranks, person who downed my self-esteem cuz I'm not an avid signature artist like herself. :proud:|||Banned for taking all the room under my bed. Ya gotta learn to share with the roaches.|||http://www.youtube.com/watch?v=w8IgImn57aQ|||Banned for being too much of a thundering, grumbling kind of storm... yep.|||Ahh... old high school music I haven't heard in ages.   http://www.youtube.com/watch?v=dcCRUPCdB1w|||I failed a public speaking class a few years ago and I've sort of learned what I could do better were I to be in that position again. A big part of my failure was just overloading myself with too...|||I like this person's mentality. He's a confirmed INTJ by the way. http://www.youtube.com/watch?v=hGKLI-GEc6M|||Move to the Denver area and start a new life for myself.'\""
      ]
     },
     "execution_count": 92,
     "metadata": {},
     "output_type": "execute_result"
    }
   ],
   "source": [
    "data.iloc[0][1]"
   ]
  },
  {
   "cell_type": "code",
   "execution_count": 139,
   "id": "f901b338",
   "metadata": {},
   "outputs": [
    {
     "data": {
      "text/plain": [
       "Index(['type', 'posts'], dtype='object')"
      ]
     },
     "execution_count": 139,
     "metadata": {},
     "output_type": "execute_result"
    }
   ],
   "source": [
    "data.columns"
   ]
  },
  {
   "cell_type": "code",
   "execution_count": 140,
   "id": "85e0873b",
   "metadata": {},
   "outputs": [
    {
     "data": {
      "text/plain": [
       "8675"
      ]
     },
     "execution_count": 140,
     "metadata": {},
     "output_type": "execute_result"
    }
   ],
   "source": [
    "data.shape[0]"
   ]
  },
  {
   "cell_type": "code",
   "execution_count": 141,
   "id": "ed9dd3b6",
   "metadata": {},
   "outputs": [],
   "source": [
    "#Functions for Data Preprocessing "
   ]
  },
  {
   "cell_type": "code",
   "execution_count": 142,
   "id": "18282667",
   "metadata": {},
   "outputs": [],
   "source": [
    "# Function To replace \"|||\" from text with \" \" Join all texts written by 1 Person \n",
    "def replace_sep(text):\n",
    "    \"\"\"Remove '|||' which is used as seprator \"\"\"\n",
    "    text = text.replace(\"|||\",\" \")\n",
    "    return text\n",
    "\n",
    "# Function To remove Links from text and replace them with 'Link' \n",
    "def remove_link(text):\n",
    "    \"\"\"Replace Links from text to 'Link' \"\"\"\n",
    "    text = re.sub(r\"http\\S+\", \"Link\", text, flags=re.MULTILINE)\n",
    "    return text\n"
   ]
  },
  {
   "cell_type": "code",
   "execution_count": 143,
   "id": "ac305c9e",
   "metadata": {},
   "outputs": [
    {
     "data": {
      "text/plain": [
       "'link link enfp intj moment link sportscent top ten play link prank ha lifechang experi life link link repeat today may perc experi immer last thing infj friend post hi facebook commit suicid next day rest peac link hello enfj7 sorri hear distress natur relationship perfect time everi moment exist tri figur hard time time growth 84389 84390 link link welcom stuff link game set match prozac wellbrutin least thirti minut move leg nt mean move sit desk chair weed moder mayb tri edibl healthier altern basic come three item determin type whichev type want would like use given type cognit function whatnot left thing moder sim ind video game good one note good one somewhat subject am complet promot death ani given sim dear enfp favorit video game grow now current favorit video game cool link appear late sad someon everyon wait thought confid good thing cherish time solitud bc revel within inner world wherea other time workin enjoy time nt worri peopl alway around yo entp ladi complimentari person well hey main social outlet xbox live conver even verbal fatigu quickli link realli dig part 146 250 link ban thread requir get high backyard roast eat marshmellow backyard conver someth intellectu follow massag kiss link link link ban mani b sentenc could think b ban watch movi corner dunc ban health class clearli taught noth peer pressur ban whole host reason link 1 two babi deer left right munch beetl middl 2 use blood two cavemen diari today latest happen design cave diari wall 3 see pokemon world infj societi everyon becom optimist 49142 link link link link artist artist draw idea that count form someth own like signatur welcom robot rank person selfesteem cuz not avid signatur artist like proud ban take room bed ya got ta learn share the roach link ban much thunder grumbl kind storm yep ahh old high school music nt heard age link fail public speak class few year ago ve sort learn could better that posit big part my failur overload too i like thi person mental a confirm intj the way link move the denver area start a new life'"
      ]
     },
     "execution_count": 143,
     "metadata": {},
     "output_type": "execute_result"
    }
   ],
   "source": [
    "replace_sep(data.iloc[0][1])"
   ]
  },
  {
   "cell_type": "code",
   "execution_count": 144,
   "id": "c49cb3e3",
   "metadata": {},
   "outputs": [
    {
     "data": {
      "text/plain": [
       "'link link enfp intj moment link sportscent top ten play link prank ha lifechang experi life link link repeat today may perc experi immer last thing infj friend post hi facebook commit suicid next day rest peac link hello enfj7 sorri hear distress natur relationship perfect time everi moment exist tri figur hard time time growth 84389 84390 link link welcom stuff link game set match prozac wellbrutin least thirti minut move leg nt mean move sit desk chair weed moder mayb tri edibl healthier altern basic come three item determin type whichev type want would like use given type cognit function whatnot left thing moder sim ind video game good one note good one somewhat subject am complet promot death ani given sim dear enfp favorit video game grow now current favorit video game cool link appear late sad someon everyon wait thought confid good thing cherish time solitud bc revel within inner world wherea other time workin enjoy time nt worri peopl alway around yo entp ladi complimentari person well hey main social outlet xbox live conver even verbal fatigu quickli link realli dig part 146 250 link ban thread requir get high backyard roast eat marshmellow backyard conver someth intellectu follow massag kiss link link link ban mani b sentenc could think b ban watch movi corner dunc ban health class clearli taught noth peer pressur ban whole host reason link 1 two babi deer left right munch beetl middl 2 use blood two cavemen diari today latest happen design cave diari wall 3 see pokemon world infj societi everyon becom optimist 49142 link link link link artist artist draw idea that count form someth own like signatur welcom robot rank person selfesteem cuz not avid signatur artist like proud ban take room bed ya got ta learn share the roach link ban much thunder grumbl kind storm yep ahh old high school music nt heard age link fail public speak class few year ago ve sort learn could better that posit big part my failur overload too i like thi person mental a confirm intj the way link move the denver area start a new life'"
      ]
     },
     "execution_count": 144,
     "metadata": {},
     "output_type": "execute_result"
    }
   ],
   "source": [
    "remove_link(data.iloc[0][1])"
   ]
  },
  {
   "cell_type": "code",
   "execution_count": 145,
   "id": "d634f91f",
   "metadata": {},
   "outputs": [],
   "source": [
    "#Pre-Processing Stage -1"
   ]
  },
  {
   "cell_type": "code",
   "execution_count": 146,
   "id": "39f1a82f",
   "metadata": {},
   "outputs": [],
   "source": [
    "def pre_processing_stage_1(text_p):\n",
    "    text = replace_sep(text_p)  # Calling Function to remove \"|||\" seprator and join all texts \n",
    "    text = remove_link(text) # calling function to removes Links \n",
    "    text = text.lower()     # To convert whole text To lower\n",
    "    return text"
   ]
  },
  {
   "cell_type": "code",
   "execution_count": 147,
   "id": "8287fa65",
   "metadata": {},
   "outputs": [
    {
     "data": {
      "text/plain": [
       "'link link enfp intj moment link sportscent top ten play link prank ha lifechang experi life link link repeat today may perc experi immer last thing infj friend post hi facebook commit suicid next day rest peac link hello enfj7 sorri hear distress natur relationship perfect time everi moment exist tri figur hard time time growth 84389 84390 link link welcom stuff link game set match prozac wellbrutin least thirti minut move leg nt mean move sit desk chair weed moder mayb tri edibl healthier altern basic come three item determin type whichev type want would like use given type cognit function whatnot left thing moder sim ind video game good one note good one somewhat subject am complet promot death ani given sim dear enfp favorit video game grow now current favorit video game cool link appear late sad someon everyon wait thought confid good thing cherish time solitud bc revel within inner world wherea other time workin enjoy time nt worri peopl alway around yo entp ladi complimentari person well hey main social outlet xbox live conver even verbal fatigu quickli link realli dig part 146 250 link ban thread requir get high backyard roast eat marshmellow backyard conver someth intellectu follow massag kiss link link link ban mani b sentenc could think b ban watch movi corner dunc ban health class clearli taught noth peer pressur ban whole host reason link 1 two babi deer left right munch beetl middl 2 use blood two cavemen diari today latest happen design cave diari wall 3 see pokemon world infj societi everyon becom optimist 49142 link link link link artist artist draw idea that count form someth own like signatur welcom robot rank person selfesteem cuz not avid signatur artist like proud ban take room bed ya got ta learn share the roach link ban much thunder grumbl kind storm yep ahh old high school music nt heard age link fail public speak class few year ago ve sort learn could better that posit big part my failur overload too i like thi person mental a confirm intj the way link move the denver area start a new life'"
      ]
     },
     "execution_count": 147,
     "metadata": {},
     "output_type": "execute_result"
    }
   ],
   "source": [
    "pre_processing_stage_1(data.iloc[0][1])"
   ]
  },
  {
   "cell_type": "code",
   "execution_count": 148,
   "id": "72666d0d",
   "metadata": {},
   "outputs": [],
   "source": [
    "#Pre-Processing Satge -2 "
   ]
  },
  {
   "cell_type": "code",
   "execution_count": 149,
   "id": "b0cd68df",
   "metadata": {},
   "outputs": [],
   "source": [
    "def pre_processing_stage_2(text_p):\n",
    "    tokenized_text = word_tokenize(text_p)\n",
    "    for word in tokenized_text:\n",
    "        if word in stopwords.words('english'):\n",
    "            tokenized_text.remove(word)\n",
    "    tokenized_text = remove_punctuation(tokenized_text)\n",
    "    for i in range(len(tokenized_text)):\n",
    "        tokenized_text[i] = stemmer.stem(tokenized_text[i])  # bla bla bla\n",
    "    final_text = \" \".join(tokenized_text)\n",
    "    return final_text"
   ]
  },
  {
   "cell_type": "code",
   "execution_count": 150,
   "id": "8de56028",
   "metadata": {},
   "outputs": [
    {
     "data": {
      "text/plain": [
       "'link link enfp intj moment link sportscent top ten play link prank ha lifechang experi life link link repeat today may perc experi immer last thing infj friend post hi facebook commit suicid next day rest peac link hello enfj7 sorri hear distress natur relationship perfect time everi moment exist tri figur hard time time growth 84389 84390 link link welcom stuff link game set match prozac wellbrutin least thirti minut move leg nt mean move sit desk chair weed moder mayb tri edibl healthier altern basic come three item determin type whichev type want would like use given type cognit function whatnot left thing moder sim ind video game good one note good one somewhat subject complet promot death ani given sim dear enfp favorit video game grow current favorit video game cool link appear late sad someon everyon wait thought confid good thing cherish time solitud bc revel within inner world wherea time workin enjoy time nt worri peopl alway around yo entp ladi complimentari person well hey main social outlet xbox live conver even verbal fatigu quickli link realli dig part 146 250 link ban thread requir get high backyard roast eat marshmellow backyard conver someth intellectu follow massag kiss link link link ban mani b sentenc could think b ban watch movi corner dunc ban health class clearli taught noth peer pressur ban whole host reason link 1 two babi deer left right munch beetl middl 2 use blood two cavemen diari today latest happen design cave diari wall 3 see pokemon world infj societi everyon becom optimist 49142 link link link link artist artist draw idea count form someth like signatur welcom robot rank person selfesteem cuz avid signatur artist like proud ban take room bed ya got ta learn share roach link ban much thunder grumbl kind storm yep ahh old high school music nt heard age link fail public speak class year ago sort learn could better posit big part failur overload i like thi person mental confirm intj way link move denver area start new life'"
      ]
     },
     "execution_count": 150,
     "metadata": {},
     "output_type": "execute_result"
    }
   ],
   "source": [
    "pre_processing_stage_2(data.iloc[0][1])"
   ]
  },
  {
   "cell_type": "code",
   "execution_count": 151,
   "id": "51f0cc7b",
   "metadata": {},
   "outputs": [],
   "source": [
    "#Final Functiuon to Clean Data "
   ]
  },
  {
   "cell_type": "code",
   "execution_count": 152,
   "id": "e5785b74",
   "metadata": {},
   "outputs": [],
   "source": [
    "stemmer = PorterStemmer()                     # Defining Stemmer for Stemming in pre_processing_stage_2\n",
    "\n",
    "def Clean_Data(df):\n",
    "    print(\"PreProcessing----------- \")\n",
    "    for i in tqdm(range(df.shape[0])):\n",
    "        text = df.iloc[i][1]                      # Getting data from DataFrame to Text varibale to Preprocess\n",
    "        text = pre_processing_stage_1(text)       # calling Function to merge texts and Do 1st level pre-processing  \n",
    "        text = pre_processing_stage_2(text)       # calling Function to merge texts and Do 2st level pre-processing\n",
    "        df.at[i, 'posts'] = text                  #Similar to loc, in that both provide label-based lookups. Use at if you only need to get or set a single value in a DataFrame or Series.\n",
    "    return df"
   ]
  },
  {
   "cell_type": "code",
   "execution_count": 153,
   "id": "f1e5063a",
   "metadata": {},
   "outputs": [],
   "source": [
    "#Data Cleaning In Progress "
   ]
  },
  {
   "cell_type": "code",
   "execution_count": 154,
   "id": "31410901",
   "metadata": {},
   "outputs": [
    {
     "name": "stdout",
     "output_type": "stream",
     "text": [
      "PreProcessing----------- \n"
     ]
    },
    {
     "name": "stderr",
     "output_type": "stream",
     "text": [
      "100%|████████████████████████████████████████████████████████████████████████████████████████████| 8675/8675 [37:24<00:00,  3.87it/s]\n"
     ]
    }
   ],
   "source": [
    "data = Clean_Data(data)"
   ]
  },
  {
   "cell_type": "code",
   "execution_count": 155,
   "id": "133dcf0f",
   "metadata": {},
   "outputs": [
    {
     "name": "stdout",
     "output_type": "stream",
     "text": [
      "link link enfp intj moment link sportscent top ten play link prank ha lifechang experi life link link repeat today may perc experi immer last thing infj friend post hi facebook commit suicid next day rest peac link hello enfj7 sorri hear distress natur relationship perfect time everi moment exist tri figur hard time time growth 84389 84390 link link welcom stuff link game set match prozac wellbrutin least thirti minut move leg nt mean move sit desk chair weed moder mayb tri edibl healthier altern basic come three item determin type whichev type want would like use given type cognit function whatnot left thing moder sim ind video game good one note good one somewhat subject complet promot death ani given sim dear enfp favorit video game grow current favorit video game cool link appear late sad someon everyon wait thought confid good thing cherish time solitud bc revel within inner world wherea time workin enjoy time nt worri peopl alway around yo entp ladi complimentari person well hey main social outlet xbox live conver even verbal fatigu quickli link realli dig part 146 250 link ban thread requir get high backyard roast eat marshmellow backyard conver someth intellectu follow massag kiss link link link ban mani b sentenc could think b ban watch movi corner dunc ban health class clearli taught noth peer pressur ban whole host reason link 1 two babi deer left right munch beetl middl 2 use blood two cavemen diari today latest happen design cave diari wall 3 see pokemon world infj societi everyon becom optimist 49142 link link link link artist artist draw idea count form someth like signatur welcom robot rank person selfesteem cuz avid signatur artist like proud ban take room bed ya got ta learn share roach link ban much thunder grumbl kind storm yep ahh old high school music nt heard age link fail public speak class year ago sort learn could better posit big part failur overload i like thi person mental confirm intj way link move denver area start new life\n"
     ]
    }
   ],
   "source": [
    "print(data.iloc[0][1])"
   ]
  },
  {
   "cell_type": "code",
   "execution_count": 69,
   "id": "0fbb7e97",
   "metadata": {},
   "outputs": [],
   "source": [
    "#Storing cleaned Data in CSV for later Use "
   ]
  },
  {
   "cell_type": "code",
   "execution_count": 173,
   "id": "ebc97751",
   "metadata": {},
   "outputs": [],
   "source": [
    "data.to_csv('/home/luisgustavo/code/linkedin_project/raw_data/mbti_clean.csv', index = False)"
   ]
  }
 ],
 "metadata": {
  "kernelspec": {
   "display_name": "Python 3 (ipykernel)",
   "language": "python",
   "name": "python3"
  },
  "language_info": {
   "codemirror_mode": {
    "name": "ipython",
    "version": 3
   },
   "file_extension": ".py",
   "mimetype": "text/x-python",
   "name": "python",
   "nbconvert_exporter": "python",
   "pygments_lexer": "ipython3",
   "version": "3.8.12"
  },
  "toc": {
   "base_numbering": 1,
   "nav_menu": {},
   "number_sections": true,
   "sideBar": true,
   "skip_h1_title": false,
   "title_cell": "Table of Contents",
   "title_sidebar": "Contents",
   "toc_cell": false,
   "toc_position": {},
   "toc_section_display": true,
   "toc_window_display": false
  }
 },
 "nbformat": 4,
 "nbformat_minor": 5
}
